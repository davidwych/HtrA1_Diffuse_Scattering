{
 "cells": [
  {
   "cell_type": "markdown",
   "metadata": {},
   "source": [
    "# HtrA1 Crystal Simulation\n",
    "\n",
    "## Relevant System info:\n",
    "\n",
    "- **Temperature**: 100 K\n",
    "\n",
    "- **pH**: 5.6\n",
    "- **X-ray wavelength**: 1.08090 A\n",
    "- **X-ray Resolution Range**: (50.0, 2.750) A\n",
    "- **Matthews Coefficient, $V_m$**: 3.61 (A^3 / Da)\n",
    "    - Note: this is the volume of the asymmetric unit, as obtained directly from the X-ray diffraction measurements, divided by the molecular weight of protein contained in the asymmetric unit -- i.e. the crystal volume per unit of molecular wieght\n",
    "- **Solvent Content, $V_s$**: 65.89 % \n",
    "    - $V_s = 1 - \\frac{1.23}{V_m}$\n",
    "- **Crystallization Conditions**:\n",
    "    - 1.0 M Li2SO4\n",
    "    - 0.1 M Sodium Citrate (pH 5.6)\n",
    "    - 0.5 M (NH4)2SO4\n",
    "    - Temperature: 292 K\n",
    "    - Vapor Diffusion\n",
    "    - Sitting Drop\n",
    "    - Temp: 292 K"
   ]
  },
  {
   "cell_type": "markdown",
   "metadata": {},
   "source": [
    "## PDB Cleaning and Supercell Prep"
   ]
  },
  {
   "cell_type": "markdown",
   "metadata": {},
   "source": [
    "## PDB File Preparation:\n",
    "### Issues with protein connectivity\n",
    "\n",
    "### 3NUM\n",
    "Protein has three separate parts:\n",
    "- Fragment 1: Resid 315 to 359\n",
    "- Fragment 2: Resid 290 to 300\n",
    "- Fragment 3: Resid 161 to 284\n",
    "\n",
    "Using the program `pdbfixer` to fill in the missing residues, without the pH 7 hydrogens, and outputted to new pdb files `3num_fixed.pdb`"
   ]
  },
  {
   "cell_type": "markdown",
   "metadata": {},
   "source": [
    "3NUM -- resid 161 to 284 and resid 290 to 300 and resid 315 to 369\n",
    "(3TJN -- resid 164 to 367)\n",
    "3NZI -- resid 160 to 370 (4-7)\n",
    "3NWU -- resid 161 to 300 and resid 314 to 364 (protein and chain A)"
   ]
  },
  {
   "cell_type": "markdown",
   "metadata": {},
   "source": [
    "![HtrA1 Overlay](./misc_files/HtrA1_overlay_all_three.png)"
   ]
  },
  {
   "cell_type": "markdown",
   "metadata": {},
   "source": [
    "**Fig. 1**: 3NUM (red), 3NZI (blue) and 3NWU (green) overlaid, with loop region missing in 3NUM opage in the other two images."
   ]
  },
  {
   "cell_type": "markdown",
   "metadata": {},
   "source": [
    "Going to try using Chimera and modeller/modloop to attach better loop"
   ]
  },
  {
   "cell_type": "markdown",
   "metadata": {},
   "source": [
    "![3NUM Fragments](./misc_files/3NUM_fragments.png)\n",
    "\n",
    "**Fig. 2** -- 3NUM structure, with the three fragments in three different colors.\n",
    "\n",
    "## 3NUM\n",
    "\n",
    "3 fragments (`pfrags`):\n",
    "- resid 161 to 284\n",
    "- resid 290 to 300\n",
    "- resid 315 to 369"
   ]
  },
  {
   "cell_type": "markdown",
   "metadata": {},
   "source": [
    "![3NZI Fragments](./misc_files/3NZI_fragments.png)\n",
    "\n",
    "**Fig. 3** -- 3NZI structure, with ligand in orange\n",
    "\n",
    "## 3NZI\n",
    "\n",
    "2 fragments (`pfrags`) and one ligand (\"B2V\": $\\text{C}_{4}\\text{H}_{12}\\text{BNO}$)\n",
    "- resid 160 to 370\n",
    "- resid 1 to 7"
   ]
  },
  {
   "cell_type": "markdown",
   "metadata": {},
   "source": [
    "## PDBFixer\n",
    "\n",
    "Used PDBFixer to reconstruct the missing loops in `3NUM` residues 285 to 289 and 301 to 314, then kept only as much N- and C-terminal residues to match exactly with the N- and C-terminal ends of the original `3NUM` file. Also filled in heavy atoms but did not add hydrogens"
   ]
  },
  {
   "cell_type": "markdown",
   "metadata": {},
   "source": [
    "## Chimera Tools -- Model/Refine Loops\n",
    "\n",
    "### Outputted 5 models (#2.1-#2.5) with the following zDOPE scores\n",
    "\n",
    "(reset relevant resids from 5 to 213 instead of 161 to 369)\n",
    "\n",
    "**#2.1** -- -1.29\n",
    "\n",
    "**#2.4** -- -1.28\n",
    "\n",
    "**#2.3** -- -1.24\n",
    "\n",
    "**#2.5** -- -1.22\n",
    "\n",
    "**#2.2** -- -1.03"
   ]
  },
  {
   "cell_type": "markdown",
   "metadata": {},
   "source": [
    "### Commands for fitting and outputting PDB structures in VMD:\n",
    "\n",
    "(assuming 3num is molecule 0, 3num_with_loop is molecule 1)\n",
    "\n",
    "```\n",
    "set 3NUM_Fit [atomselect 0 \"name CA and (resid 5 to 128 or resid 134 to 144 or resid 159 to 213)\"]\n",
    "set 3NUM_Loop_Fit [atomselect 1 \"name CA and (resid 5 to 128 or resid 134 to 144 or resid 159 to 213)\"]\n",
    "set M [measure fit $3NUM_Loop_Fit $3NUMfit]\n",
    "set 3NUM_Loop [atomselect 1 all]\n",
    "$3NUM_Loop move $M\n",
    "set 3NUM_out [atomselect 1 \"resid 5 to 213\"]\n",
    "$3NUM_out writepdb \"3num_loop_1_aligned.pdb\"\n",
    "```"
   ]
  },
  {
   "cell_type": "markdown",
   "metadata": {},
   "source": [
    "### January 26th: \n",
    "- Aligned the 3num and 3num_fixed_chim_loop_1.pdb structures using the atomselection above, then outputted the coordinates to a PDB file, leaving off the first four residues, which were added by pdb fixer, and aren't present in 3num (3num_loop_1_aligned.pdb), and copied the header from 3num.pdb to the top of 3num_loop_1_aligned.pdb for scale and crystal information."
   ]
  },
  {
   "cell_type": "markdown",
   "metadata": {},
   "source": [
    "Now just need to check the bond orders and add hydrogens before putting in to UnitCell and PropPDB, and do the same for two other loop starting configuration structures.\n",
    "\n",
    "#### Questions to ask later:\n",
    "\n",
    "Once we see what starting configuration best matches with the diffuse data, is there any way for that information to be used to refine the crystallographic structure?"
   ]
  },
  {
   "cell_type": "markdown",
   "metadata": {},
   "source": [
    "#### January 30th, 2018\n",
    "\n",
    "Fixed `3num_loop_(#)_aligned.pdb` residue numbers with this script (practiced on a `_copy`):"
   ]
  },
  {
   "cell_type": "markdown",
   "metadata": {
    "collapsed": true
   },
   "source": [
    "#### `fix_residues.py`\n",
    "\n",
    "```with open(\"3num_loop_3_aligned_new.pdb\", 'r') as file:\n",
    "    lines = file.readlines()\n",
    "    with open(\"3num_loop_3_aligned_new2.pdb\",'w') as newfile:\n",
    "        for line in lines:\n",
    "            if line[0:6] == 'ATOM  ':\n",
    "                old_resid = line[23:26]\n",
    "                new_resid = int(old_resid) + 156\n",
    "                new_resid_str = str(new_resid)\n",
    "                newline = line[:20] + ' A ' + new_resid_str + line[26:]\n",
    "                newfile.write(newline)\n",
    "            else:\n",
    "                newfile.write(line)\n",
    "        newfile.write('TER    1599      ASP A 369\\nMASTER      560    0    0    3   14    0    0    6 1598    1    0   26\\nEND')```"
   ]
  },
  {
   "cell_type": "markdown",
   "metadata": {},
   "source": [
    "Now just have to make sure the header doesn't interfere with the necessary parts of the pdb file that parmed and openeye will need to fix the pdb and UnitCell and PropPDB will need to prepare them for simulation"
   ]
  },
  {
   "cell_type": "code",
   "execution_count": null,
   "metadata": {
    "collapsed": true
   },
   "outputs": [],
   "source": [
    "import nglview\n",
    "\n",
    "view1 = nglview.show_file(\"/Users/davidwych/Downloads/GP3_Dir/PDB2PQR_Files/3num_loop_1_aligned_new_clean2.pdb\")\n",
    "view2 = nglview.show_file(\"/Users/davidwych/Downloads/GP3_Dir/PDB2PQR_Files/3num_loop_2_aligned_new_clean2.pdb\")\n",
    "view3 = nglview.show_file(\"/Users/davidwych/Downloads/GP3_Dir/PDB2PQR_Files/3num_loop_3_aligned_new_clean2.pdb\")\n",
    "\n",
    "for el in [view1, view2, view3]:\n",
    "    el.clear_representations()\n",
    "    el.add_representation(repr_type=\"cartoon\", selection=\"300-315\")\n",
    "    el.add_representation(repr_type=\"cartoon\", selection=\"161-284\", opacity=0.1)\n",
    "    el.add_representation(repr_type=\"cartoon\", selection=\"285-289\")\n",
    "    el.add_representation(repr_type=\"cartoon\", selection=\"290-299\", opacity=0.1)\n",
    "    el.add_representation(repr_type=\"cartoon\", selection=\"315-369\", opacity=0.1)"
   ]
  },
  {
   "cell_type": "code",
   "execution_count": null,
   "metadata": {
    "collapsed": true
   },
   "outputs": [],
   "source": [
    "from ipywidgets import VBox"
   ]
  },
  {
   "cell_type": "markdown",
   "metadata": {},
   "source": [
    "### Loop Configurations"
   ]
  },
  {
   "cell_type": "code",
   "execution_count": null,
   "metadata": {
    "collapsed": true
   },
   "outputs": [],
   "source": [
    "vbox = VBox([view1, view2, view3])\n",
    "vbox"
   ]
  },
  {
   "cell_type": "code",
   "execution_count": null,
   "metadata": {
    "collapsed": true
   },
   "outputs": [],
   "source": [
    "for view in [view1, view2, view3]:\n",
    "    view.sync_view()"
   ]
  },
  {
   "cell_type": "markdown",
   "metadata": {
    "collapsed": true
   },
   "source": [
    "### PDB2PQR\n",
    "\n",
    "Converted the aligned PDB files to PQR files using http://nbcr-222.ucsd.edu/pdb2pqr_2.0.0/, selecting AMBER Force Field and naming conventions, and choosing a pH of 7\n",
    "- There was a problem with all three loop configurations, which is apparently a result of not being able to work around a clash between these two atoms: `HIS A 226 HA is too close to HIS A 226 CD2`, but it was unable to \"debump\" it. It came with this warning in the pqr file:\n",
    "    - `WARNING: Unable to debump HIS A 226`"
   ]
  },
  {
   "cell_type": "markdown",
   "metadata": {},
   "source": [
    "### Using `parmed` to convert the PQRs to PDBs"
   ]
  },
  {
   "cell_type": "code",
   "execution_count": null,
   "metadata": {
    "collapsed": true
   },
   "outputs": [],
   "source": [
    "import parmed as pmd"
   ]
  },
  {
   "cell_type": "code",
   "execution_count": null,
   "metadata": {
    "collapsed": true
   },
   "outputs": [],
   "source": [
    "pqr1 = pmd.load_file(\"./PDB2PQR_Files/3num_loop_1_aligned_new.pqr\")\n",
    "pqr1.save(\"./PDB2PQR_Files/3num_loop_1_aligned_new_clean.pdb\")\n",
    "\n",
    "pqr2 = pmd.load_file(\"./PDB2PQR_Files/3num_loop_2_aligned_new.pqr\")\n",
    "pqr2.save(\"./PDB2PQR_Files/3num_loop_2_aligned_new_clean.pdb\")\n",
    "\n",
    "pqr3 = pmd.load_file(\"./PDB2PQR_Files/3num_loop_3_aligned_new.pqr\")\n",
    "pqr3.save(\"./PDB2PQR_Files/3num_loop_3_aligned_new_clean.pdb\")"
   ]
  },
  {
   "cell_type": "markdown",
   "metadata": {},
   "source": [
    "## Using OpenEye to Check Bond Orders/Connectivity and Add Hydrogens"
   ]
  },
  {
   "cell_type": "code",
   "execution_count": null,
   "metadata": {
    "collapsed": true
   },
   "outputs": [],
   "source": [
    "from openeye.oechem import *\n",
    "from openeye.oeomega import *\n",
    "from openeye.oeiupac import *\n",
    "from openeye.oeshape import *"
   ]
  },
  {
   "cell_type": "code",
   "execution_count": null,
   "metadata": {
    "collapsed": true
   },
   "outputs": [],
   "source": [
    "istream = oemolistream(\"3num_loop_1_aligned_new_clean.pdb\")\n",
    "mol_from_file = OEMol()\n",
    "OEReadMolecule(istream, mol_from_file)\n",
    "oechem.OEAddExplicitHydrogens(OEMol())\n",
    "oechem.OEDetermineConnectivity(OEMol())\n",
    "oechem.OEPerceiveBondOrders(OEMol())\n",
    "ostream = oemolostream('3num_loop_1_aligned_new_clean_oe.pdb')\n",
    "OEWriteMolecule(ostream, mol_from_file)"
   ]
  },
  {
   "cell_type": "code",
   "execution_count": null,
   "metadata": {
    "collapsed": true
   },
   "outputs": [],
   "source": [
    "istream = oemolistream(\"3num_loop_2_aligned_new_clean.pdb\")\n",
    "mol_from_file = OEMol()\n",
    "OEReadMolecule(istream, mol_from_file)\n",
    "oechem.OEAddExplicitHydrogens(OEMol())\n",
    "oechem.OEDetermineConnectivity(OEMol())\n",
    "oechem.OEPerceiveBondOrders(OEMol())\n",
    "ostream = oemolostream('3num_loop_2_aligned_new_clean_oe.pdb')\n",
    "OEWriteMolecule(ostream, mol_from_file)"
   ]
  },
  {
   "cell_type": "code",
   "execution_count": null,
   "metadata": {
    "collapsed": true
   },
   "outputs": [],
   "source": [
    "istream = oemolistream(\"3num_loop_3_aligned_new_clean.pdb\")\n",
    "mol_from_file = OEMol()\n",
    "OEReadMolecule(istream, mol_from_file)\n",
    "oechem.OEAddExplicitHydrogens(OEMol())\n",
    "oechem.OEDetermineConnectivity(OEMol())\n",
    "oechem.OEPerceiveBondOrders(OEMol())\n",
    "ostream = oemolostream('3num_loop_3_aligned_new_clean_oe.pdb')\n",
    "OEWriteMolecule(ostream, mol_from_file)"
   ]
  },
  {
   "cell_type": "markdown",
   "metadata": {},
   "source": [
    "# Needed to add back in header crystal and scale information "
   ]
  },
  {
   "cell_type": "markdown",
   "metadata": {
    "collapsed": true
   },
   "source": [
    "### Loops\n",
    "\n",
    "![3NUM Loops](./images/3num_loops.png)\n",
    "\n",
    "Here is a piture of the three starting loop configurations (1: Blue; 2: Red; 3: Orange)"
   ]
  },
  {
   "cell_type": "markdown",
   "metadata": {},
   "source": [
    "## Calculating the Box Volume"
   ]
  },
  {
   "cell_type": "code",
   "execution_count": 3,
   "metadata": {
    "collapsed": true
   },
   "outputs": [],
   "source": [
    "import mdtraj as md\n",
    "import MDAnalysis as mda"
   ]
  },
  {
   "cell_type": "code",
   "execution_count": 4,
   "metadata": {
    "collapsed": true
   },
   "outputs": [],
   "source": [
    "SC = mda.Universe(\"./3num_loop_1_SC.pdb\")"
   ]
  },
  {
   "cell_type": "code",
   "execution_count": 8,
   "metadata": {},
   "outputs": [
    {
     "name": "stdout",
     "output_type": "stream",
     "text": [
      "Box Size (breadth, width, height): 218.95199584960938 218.95199584960938 227.91200256347656 A\n"
     ]
    }
   ],
   "source": [
    "[X, Y, Z, a, b, g ] = SC.dimensions\n",
    "print(\"Box Size (breadth, width, height): {} {} {} A\".format(X,Y,Z))"
   ]
  },
  {
   "cell_type": "code",
   "execution_count": 7,
   "metadata": {
    "collapsed": true
   },
   "outputs": [],
   "source": [
    "import numpy as np"
   ]
  },
  {
   "cell_type": "code",
   "execution_count": 8,
   "metadata": {},
   "outputs": [
    {
     "name": "stdout",
     "output_type": "stream",
     "text": [
      "9462276.70019\n"
     ]
    }
   ],
   "source": [
    "SCVolume = X * Y * Z * np.sin((g/360.0)*2*np.pi)\n",
    "print(SCVolume)"
   ]
  },
  {
   "cell_type": "markdown",
   "metadata": {},
   "source": [
    "### Calculation of the number of solute molecules"
   ]
  },
  {
   "cell_type": "markdown",
   "metadata": {},
   "source": [
    "$9,462,276.7 \\ \\text{A}^{3}\\to 9.4622767×10^{-21} \\ \\text{L}$\n",
    "\n",
    "$1.0 \\ \\text{M} \\ \\text{Li}_{2}^{+} \\ \\text{SO}_{4}^{2-} \\times 9.4622767×10^{-21} \\ \\text{L} \\ \\times \\ \\text{N}_{A}$:\n",
    "- **5,698 Sulfate molecules, 11,396 Lithium atoms** \n",
    "- (3,755 Sulfate molecules, 7,509 Lithum atoms at 65.89% solvent content)\n",
    "\n",
    "$0.5 \\ \\text{M} \\ (\\text{NH}_{4}^{+})_{2} \\ \\text{SO}_{4}^{2-} \\times 9.4622767×10^{-21} \\ \\text{L} \\ \\times \\ \\text{N}_{A}$: \n",
    "- **2,849 Sulfate molecules, 5,698 Ammonium molecules** \n",
    "- (1,877 Sulfate molecules, 3754 Ammonium molecules at 65.89% solvent content)\n",
    "\n",
    "$0.1 \\ \\text{M} \\ (\\text{Na}^{+})_{2} \\ (\\text{C}_{6}\\text{H}_{6}\\text{O}_{7})^{2-} \\times 9.4622767×10^{-21} \\ \\text{L} \\ \\times \\ \\text{N}_{A}$: \n",
    "- **570 Citrate molecules, 1,140 Sodium molecules** \n",
    "- (376 Sulfate molecules, 751 Sodium at 65.89% solvent content)\n",
    "\n",
    "#### Totals to add: \n",
    "Full supercell volume (65.89% solvent content)\n",
    "\n",
    "- **Sulfate**: 8,547 (5,632)\n",
    "- **Lithium**: 11,396 (7,510)\n",
    "- **Sodium**: 1,140 (752)\n",
    "- **Ammonium**: 5,698 (3754)\n",
    "- **Citrate**: 570 (376)"
   ]
  },
  {
   "cell_type": "markdown",
   "metadata": {},
   "source": [
    "## Supercell"
   ]
  },
  {
   "cell_type": "code",
   "execution_count": 9,
   "metadata": {},
   "outputs": [
    {
     "data": {
      "application/vnd.jupyter.widget-view+json": {
       "model_id": "812c7e8bde2f430a9a73e8b2f87740c6",
       "version_major": 2,
       "version_minor": 0
      },
      "text/plain": [
       "A Jupyter Widget"
      ]
     },
     "metadata": {},
     "output_type": "display_data"
    }
   ],
   "source": [
    "SCView = nglview.show_file(\"./3num_loop_1_SC.pdb\")\n",
    "SCView.add_representation(repr_type=\"cartoon\", selection=\"protein\")\n",
    "SCView"
   ]
  },
  {
   "cell_type": "markdown",
   "metadata": {},
   "source": [
    "## Supercell has a net charge of +144"
   ]
  },
  {
   "cell_type": "markdown",
   "metadata": {},
   "source": [
    "Need to balance out with negative charged ions (sulfate and citrate):\n",
    "\n",
    "Need 72 sulfate and citrate ions\n",
    "Sulfate:Citrate = 5632:376 = 14.9787234043:1\n",
    "- (basically 15:1 -- groups of 16)\n",
    "- 72/16 = 4.5\n",
    "- 4.5 \\* 15 = 67.5 --> 68 Sulfate Ions\n",
    "- 4.5 \\* 1  = 4.5  --> 4 Citrate Ions\n",
    "\n",
    "Add 68 Sulfate ions, 4 Citrate ions\n",
    "\n",
    "#### New Totals to add: \n",
    "Full supercell volume (65.89% solvent content)\n",
    "\n",
    "- **Sulfate**: 8,615 (5,700)\n",
    "- **Lithium**: 11,396 (7,510)\n",
    "- **Sodium**: 1,140 (752)\n",
    "- **Ammonium**: 5,698 (3754)\n",
    "- **Citrate**: 574 (380)\n",
    "\n",
    "**TOTAL**: 27,423 (18,096)"
   ]
  },
  {
   "cell_type": "markdown",
   "metadata": {},
   "source": [
    "## Adding the Waters\n",
    "\n",
    "$55.5 \\ \\text{M} \\times \\ 9.4622767×10^{-21} \\ \\text{L} = 316,283  \\ \\text{molecules} \\ \\text{(208,399 molecules)}$\n",
    "\n",
    "Subtracting ions from water to add (65.89%): 208,399-18096 = 190,303\n",
    "\n",
    "Just going to add 190,300"
   ]
  },
  {
   "cell_type": "markdown",
   "metadata": {
    "collapsed": true
   },
   "source": [
    "## Prepping the Solute"
   ]
  },
  {
   "cell_type": "code",
   "execution_count": null,
   "metadata": {
    "collapsed": true
   },
   "outputs": [],
   "source": [
    "from openeye.oechem import *\n",
    "from openeye.oeiupac import *\n",
    "from openeye.oeomega import *\n",
    "from openeye.oeshape import *\n",
    "from openeye.oedepict import *"
   ]
  },
  {
   "cell_type": "code",
   "execution_count": null,
   "metadata": {
    "collapsed": true
   },
   "outputs": [],
   "source": [
    "mol_from_smiles = OEMol()\n",
    "OEParseSmiles(mol_from_smiles, \"[O-]S(=O)(=O)[O-]\")"
   ]
  },
  {
   "cell_type": "code",
   "execution_count": null,
   "metadata": {
    "collapsed": true
   },
   "outputs": [],
   "source": [
    "OEPrepareDepiction(mol_from_smiles)\n",
    "OERenderMolecule(\"sulfate.png\", mol_from_smiles)"
   ]
  },
  {
   "cell_type": "markdown",
   "metadata": {},
   "source": [
    "![sulfate](./images/sulfate.png)"
   ]
  },
  {
   "cell_type": "markdown",
   "metadata": {},
   "source": [
    "For citrate, decided to go with divalent citrate, because the experiment specifies a pH of 5.6 and the pKa specifications from Sigma Aldrich is as follows -- pKa: 3.138, 4.76, 6.401"
   ]
  },
  {
   "cell_type": "code",
   "execution_count": null,
   "metadata": {
    "collapsed": true
   },
   "outputs": [],
   "source": [
    "mol_from_smiles = OEMol()\n",
    "OEParseSmiles(mol_from_smiles, \"C(C(=O)[O-])C(CC(=O)[O-])(C(=O)O)O\")\n",
    "OEPrepareDepiction(mol_from_smiles)\n",
    "OERenderMolecule(\"citrate_2minus.png\", mol_from_smiles)"
   ]
  },
  {
   "cell_type": "markdown",
   "metadata": {},
   "source": [
    "![citrate_2minus](./images/citrate_2minus.png)"
   ]
  },
  {
   "cell_type": "code",
   "execution_count": null,
   "metadata": {
    "collapsed": true
   },
   "outputs": [],
   "source": [
    "mol_from_smiles = OEMol()\n",
    "OEParseSmiles(mol_from_smiles, \"[NH4+]\")\n",
    "OEPrepareDepiction(mol_from_smiles)\n",
    "OERenderMolecule(\"ammonium.png\", mol_from_smiles)"
   ]
  },
  {
   "cell_type": "markdown",
   "metadata": {},
   "source": [
    "![ammonium](./images/ammonium.png)"
   ]
  },
  {
   "cell_type": "markdown",
   "metadata": {
    "collapsed": true
   },
   "source": [
    "#### Code used to create all of the solute pdbs (replacing all the strings in SmilesToMol with the respective SMILES strings, and the string in oemolostream):"
   ]
  },
  {
   "cell_type": "markdown",
   "metadata": {},
   "source": [
    "```\n",
    "from openeye.oechem import *\n",
    "from openeye.oeomega import *\n",
    "from openeye.oeiupac import *\n",
    "from openeye.oeshape import *\n",
    "from openeye.oequacpac import *\n",
    "\n",
    "mol = OEMol()\n",
    "OESmilesToMol(mol, \"[NH4+]\")\n",
    "#OEAddExplicitHydrogens(mol)\n",
    "\n",
    "mol.SetTitle(\"Ammonium\")\n",
    "\n",
    "omega = OEOmega()\n",
    "omega.SetMaxConfs(1)\n",
    "omega.SetStrictStereo(False)\n",
    "omega.SetStrictAtomTypes(False)\n",
    "omega(mol)\n",
    "OEDetermineConnectivity(mol)\n",
    "OEAssignCharges(mol, OEAM1BCCCharges())\n",
    "\n",
    "ostream = oemolostream(\"ammonium.mol2\")\n",
    "OEWriteMolecule(ostream, mol)\n",
    "ostream = oemolostream(\"ammonium.pdb\")\n",
    "OEWriteMolecule(ostream, mol)\n",
    "```"
   ]
  },
  {
   "cell_type": "markdown",
   "metadata": {},
   "source": [
    "### Viewing them"
   ]
  },
  {
   "cell_type": "code",
   "execution_count": 1,
   "metadata": {
    "collapsed": true
   },
   "outputs": [],
   "source": [
    "import nglview\n",
    "\n",
    "view1 = nglview.show_file(\"/Users/davidwych/Downloads/GP3_Dir/ammonium.mol2\")\n",
    "view2 = nglview.show_file(\"/Users/davidwych/Downloads/GP3_Dir/citrate.mol2\")\n",
    "view3 = nglview.show_file(\"/Users/davidwych/Downloads/GP3_Dir/sulfate.mol2\")"
   ]
  },
  {
   "cell_type": "code",
   "execution_count": 2,
   "metadata": {},
   "outputs": [
    {
     "data": {
      "application/vnd.jupyter.widget-view+json": {
       "model_id": "9a3c79f2c003488ea27f6cebddd43b3c",
       "version_major": 2,
       "version_minor": 0
      },
      "text/plain": [
       "A Jupyter Widget"
      ]
     },
     "metadata": {},
     "output_type": "display_data"
    }
   ],
   "source": [
    "from ipywidgets import VBox\n",
    "vbox = VBox([view1, view2, view3])\n",
    "vbox"
   ]
  },
  {
   "cell_type": "markdown",
   "metadata": {},
   "source": [
    "### Using antechamber to give molecules gaff charges with commands:\n",
    "\n",
    "`antechamber -i sulfate.mol2 -fi mol2 -o sulfate.gaff.mol2 -fo mol2 -c bcc -nc -2`\n",
    "\n",
    "```\n",
    "acdoctor mode is on: check and diagnosis problems in the input file.\n",
    "-- Check Format for mol2 File --\n",
    "   Status: pass\n",
    "-- Check Unusual Elements --\n",
    "   Status: pass\n",
    "-- Check Open Valences --\n",
    "Warning: This molecule has no hydrogens nor halogens.\n",
    "         It is quite possible that there are unfilled valences.\n",
    "Warning: The number of bonds (1) for atom (ID: 1, Name: O1) does not match\n",
    "         the connectivity (2) for atom type (O.3) defined in CORR_NAME_TYPE.DAT.\n",
    "Warning: The number of bonds (1) for atom (ID: 2, Name: O2) does not match\n",
    "         the connectivity (2) for atom type (O.3) defined in CORR_NAME_TYPE.DAT.\n",
    "But, you may safely ignore the warnings if your molecule\n",
    "         uses atom names or element names as atom types.\n",
    "-- Check Geometry --\n",
    "      for those bonded\n",
    "      for those not bonded\n",
    "   Status: pass\n",
    "-- Check Weird Bonds --\n",
    "   Status: pass\n",
    "-- Check Number of Units --\n",
    "   Status: pass\n",
    "acdoctor mode has completed checking the input file.\n",
    "\n",
    "Info: Bond types are assigned for valence state (1) with penalty (1).\n",
    "Info: Total number of electrons: 50; net charge: -2\n",
    "\n",
    "Running: /Users/davidwych/anaconda3/bin/sqm -O -i sqm.in -o sqm.out \n",
    "```\n",
    "\n",
    "`antechamber -i citrate.mol2 -fi mol2 -o citrate.gaff.mol2 -fo mol2 -c bcc -nc -2`\n",
    "\n",
    "```\n",
    "acdoctor mode is on: check and diagnosis problems in the input file.\n",
    "-- Check Format for mol2 File --\n",
    "   Status: pass\n",
    "-- Check Unusual Elements --\n",
    "   Status: pass\n",
    "-- Check Open Valences --\n",
    "   Status: pass\n",
    "-- Check Geometry --\n",
    "      for those bonded\n",
    "      for those not bonded\n",
    "   Status: pass\n",
    "-- Check Weird Bonds --\n",
    "   Status: pass\n",
    "-- Check Number of Units --\n",
    "   Status: pass\n",
    "acdoctor mode has completed checking the input file.\n",
    "\n",
    "Info: Total number of electrons: 100; net charge: -2\n",
    "\n",
    "Running: /Users/davidwych/anaconda3/bin/sqm -O -i sqm.in -o sqm.out\n",
    "```\n",
    "\n",
    "`antechamber -i ammonium.mol2 -fi mol2 -o ammonium.gaff.mol2 -fo mol2 -c bcc -nc +1`\n",
    "\n",
    "```\n",
    "acdoctor mode is on: check and diagnosis problems in the input file.\n",
    "-- Check Format for mol2 File --\n",
    "   Status: pass\n",
    "-- Check Unusual Elements --\n",
    "   Status: pass\n",
    "-- Check Open Valences --\n",
    "   Status: pass\n",
    "-- Check Geometry --\n",
    "      for those bonded\n",
    "      for those not bonded\n",
    "   Status: pass\n",
    "-- Check Weird Bonds --\n",
    "   Status: pass\n",
    "-- Check Number of Units --\n",
    "   Status: pass\n",
    "acdoctor mode has completed checking the input file.\n",
    "\n",
    "Info: Total number of electrons: 10; net charge: 1\n",
    "\n",
    "Running: /Users/davidwych/anaconda3/bin/sqm -O -i sqm.in -o sqm.out\n",
    "```"
   ]
  },
  {
   "cell_type": "markdown",
   "metadata": {
    "collapsed": true
   },
   "source": [
    "Then used antechamber to convert gaff.mol2 files to pdb files:\n",
    "    \n",
    "`antechamber -i ammonium.gaff.mol2 -fi mol2 -o ammonium.pdb -fo pdb`\n",
    "\n",
    "\n",
    "```\n",
    "acdoctor mode is on: check and diagnosis problems in the input file.\n",
    "-- Check Format for mol2 File --\n",
    "   Status: pass\n",
    "-- Check Unusual Elements --\n",
    "   Status: pass\n",
    "-- Check Open Valences --\n",
    "   Status: pass\n",
    "-- Check Geometry --\n",
    "      for those bonded\n",
    "      for those not bonded\n",
    "   Status: pass\n",
    "-- Check Weird Bonds --\n",
    "   Status: pass\n",
    "-- Check Number of Units --\n",
    "   Status: pass\n",
    "acdoctor mode has completed checking the input file.\n",
    "```\n",
    "\n",
    "`antechamber -i citrate.gaff.mol2 -fi mol2 -o citrate.pdb -fo pdb`\n",
    "\n",
    "```\n",
    "acdoctor mode is on: check and diagnosis problems in the input file.\n",
    "-- Check Format for mol2 File --\n",
    "   Status: pass\n",
    "-- Check Unusual Elements --\n",
    "   Status: pass\n",
    "-- Check Open Valences --\n",
    "   Status: pass\n",
    "-- Check Geometry --\n",
    "      for those bonded\n",
    "      for those not bonded\n",
    "   Status: pass\n",
    "-- Check Weird Bonds --\n",
    "/Users/davidwych/anaconda3/bin/to_be_dispatched/antechamber: Fatal Error!\n",
    "```\n",
    "`antechamber -i sulfate.gaff.mol2 -fi mol2 -o sulfate.pdb -fo pdb`\n",
    "\n",
    "```\n",
    "acdoctor mode is on: check and diagnosis problems in the input file.\n",
    "-- Check Format for mol2 File --\n",
    "   Status: pass\n",
    "-- Check Unusual Elements --\n",
    "   Status: pass\n",
    "-- Check Open Valences --\n",
    "Warning: This molecule has no hydrogens nor halogens.\n",
    "         It is quite possible that there are unfilled valences.\n",
    "-- Check Geometry --\n",
    "      for those bonded\n",
    "      for those not bonded\n",
    "   Status: pass\n",
    "-- Check Weird Bonds --\n",
    "   Status: pass\n",
    "-- Check Number of Units --\n",
    "   Status: pass\n",
    "acdoctor mode has completed checking the input file.\n",
    "```"
   ]
  },
  {
   "cell_type": "code",
   "execution_count": null,
   "metadata": {
    "collapsed": true
   },
   "outputs": [],
   "source": []
  }
 ],
 "metadata": {
  "kernelspec": {
   "display_name": "Python [default]",
   "language": "python",
   "name": "python3"
  },
  "language_info": {
   "codemirror_mode": {
    "name": "ipython",
    "version": 3
   },
   "file_extension": ".py",
   "mimetype": "text/x-python",
   "name": "python",
   "nbconvert_exporter": "python",
   "pygments_lexer": "ipython3",
   "version": "3.6.3"
  }
 },
 "nbformat": 4,
 "nbformat_minor": 2
}
